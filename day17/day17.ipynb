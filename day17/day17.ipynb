{
 "cells": [
  {
   "cell_type": "code",
   "execution_count": 11,
   "metadata": {},
   "outputs": [],
   "source": [
    "import itertools"
   ]
  },
  {
   "cell_type": "code",
   "execution_count": 12,
   "metadata": {},
   "outputs": [],
   "source": [
    "def step_x(x, xv):\n",
    "    x += xv\n",
    "    xv += (2*(xv < 0) - 1)*(xv != 0)\n",
    "    return x, xv\n",
    "\n",
    "def step_y(y, yv):\n",
    "    y += yv\n",
    "    yv -= 1\n",
    "    return y, yv\n",
    "\n",
    "def check_x(x, xv, xmin, xmax):\n",
    "    if (xmin <= x <= xmax):\n",
    "        return 'inside'\n",
    "    elif (x > xmax) and (xv >= 0):\n",
    "        return 'overshot x'\n",
    "    elif (x < xmin) and (xv <= 0):\n",
    "        return 'undershot x'\n",
    "    else:\n",
    "        return 'continue'\n",
    "    \n",
    "def check_y(y, yv, ymin, ymax):\n",
    "    if (ymin <= y <= ymax):\n",
    "        return 'inside'\n",
    "    elif (y < ymin) and (yv <= 0):\n",
    "        return 'undershot y'\n",
    "    else:\n",
    "        return 'continue'\n",
    "    \n",
    "    \n",
    "def test_xv(xv, xmin, xmax):\n",
    "    x = 0\n",
    "    status = 'continue'\n",
    "    while status == 'continue':\n",
    "        x,xv = step_x(x,xv)\n",
    "        status = check_x(x, xv, xmin, xmax)\n",
    "        \n",
    "    return status\n",
    "\n",
    "def test_yv(yv, ymin, ymax):\n",
    "    y = 0\n",
    "    best_y = 0\n",
    "    \n",
    "    status = 'continue'\n",
    "    while status == 'continue':\n",
    "        y,yv = step_y(y,yv)\n",
    "        best_y = max(best_y, y)\n",
    "        status = check_y(y, yv, ymin, ymax)\n",
    "        \n",
    "    return status, best_y\n",
    "\n",
    "def check_trajectory(x,y,xv,yv,xmin,xmax,ymin,ymax):\n",
    "    if (xmin <= x <= xmax) and (ymin <= y <= ymax):\n",
    "        return 'inside'\n",
    "    elif (x > xmax) and (xv >= 0):\n",
    "        return 'overshot x'\n",
    "    elif (x < xmin) and (xv <= 0):\n",
    "        return 'undershot x'\n",
    "    elif (y < ymin) and (yv <= 0):\n",
    "        return 'undershot y'\n",
    "    else:\n",
    "        return 'continue'\n",
    "        \n",
    "def test_velocity(xv,yv,xmin,xmax,ymin,ymax):\n",
    "    x = 0\n",
    "    y = 0\n",
    "    status = 'continue'\n",
    "    while status == 'continue':\n",
    "        x,xv = step_x(x,xv)\n",
    "        y,yv = step_y(y,yv)\n",
    "        \n",
    "        status = check_trajectory(x,y,xv,yv,xmin,xmax,ymin,ymax)\n",
    "        \n",
    "    return status\n"
   ]
  },
  {
   "cell_type": "code",
   "execution_count": 13,
   "metadata": {},
   "outputs": [],
   "source": [
    "inp = 'target area: x=81..129, y=-150..-108'\n",
    "test = 'target area: x=20..30, y=-10..-5'"
   ]
  },
  {
   "cell_type": "code",
   "execution_count": 14,
   "metadata": {},
   "outputs": [],
   "source": [
    "xa, ya = inp.split(',')\n",
    "\n",
    "xmin, xmax = [int(x) for x in xa[15:].split('..')]\n",
    "ymin, ymax = [int(y) for y in ya[3:].split('..')]"
   ]
  },
  {
   "cell_type": "markdown",
   "metadata": {},
   "source": [
    "## Part 1"
   ]
  },
  {
   "cell_type": "code",
   "execution_count": 15,
   "metadata": {},
   "outputs": [],
   "source": [
    "best_y = 0\n",
    "for yvtest in range(1000):\n",
    "    result, yres = test_yv(yvtest, ymin, ymax)\n",
    "    if result == 'inside':\n",
    "        best_y = max(yres, best_y)"
   ]
  },
  {
   "cell_type": "code",
   "execution_count": 16,
   "metadata": {},
   "outputs": [
    {
     "data": {
      "text/plain": [
       "11175"
      ]
     },
     "execution_count": 16,
     "metadata": {},
     "output_type": "execute_result"
    }
   ],
   "source": [
    "best_y"
   ]
  },
  {
   "cell_type": "markdown",
   "metadata": {},
   "source": [
    "## Part 2"
   ]
  },
  {
   "cell_type": "code",
   "execution_count": 17,
   "metadata": {},
   "outputs": [],
   "source": [
    "ys = []\n",
    "for yvtest in range(-1000, 1000):\n",
    "    result, _ = test_yv(yvtest, ymin, ymax)\n",
    "    if result == 'inside':\n",
    "        ys.append(yvtest)\n",
    "        \n",
    "xs = []\n",
    "for xvtest in range(-1000, 1000):\n",
    "    result = test_xv(xvtest, xmin, xmax)\n",
    "    if result == 'inside':\n",
    "        xs.append(xvtest)"
   ]
  },
  {
   "cell_type": "code",
   "execution_count": 18,
   "metadata": {},
   "outputs": [
    {
     "name": "stdout",
     "output_type": "stream",
     "text": [
      "3540\n"
     ]
    }
   ],
   "source": [
    "n_vehs = 0\n",
    "for p in itertools.product(xs, ys):\n",
    "    if test_velocity(*p,xmin,xmax,ymin,ymax) == 'inside':\n",
    "        n_vehs += 1\n",
    "\n",
    "print(n_vehs)"
   ]
  }
 ],
 "metadata": {
  "kernelspec": {
   "display_name": "Python 3",
   "language": "python",
   "name": "python3"
  },
  "language_info": {
   "codemirror_mode": {
    "name": "ipython",
    "version": 3
   },
   "file_extension": ".py",
   "mimetype": "text/x-python",
   "name": "python",
   "nbconvert_exporter": "python",
   "pygments_lexer": "ipython3",
   "version": "3.7.3"
  }
 },
 "nbformat": 4,
 "nbformat_minor": 2
}
