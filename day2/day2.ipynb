{
 "cells": [
  {
   "cell_type": "code",
   "execution_count": 9,
   "metadata": {},
   "outputs": [],
   "source": [
    "name = 'input'\n",
    "\n",
    "with open(f'{name}.txt') as f:\n",
    "    x = f.read().split('\\n')"
   ]
  },
  {
   "cell_type": "markdown",
   "metadata": {},
   "source": [
    "## Part 1"
   ]
  },
  {
   "cell_type": "code",
   "execution_count": 6,
   "metadata": {},
   "outputs": [
    {
     "name": "stdout",
     "output_type": "stream",
     "text": [
      "1938402\n"
     ]
    }
   ],
   "source": [
    "depth = 0\n",
    "horiz = 0\n",
    "\n",
    "for i in x:\n",
    "    sp = i.split(' ')\n",
    "    direction = sp[0]\n",
    "    amount = int(sp[1])\n",
    "    \n",
    "    if direction == 'forward':\n",
    "        horiz += amount\n",
    "    elif direction == 'down':\n",
    "        depth += amount\n",
    "    elif direction == 'up':\n",
    "        depth -= amount\n",
    "        \n",
    "print(depth*horiz)"
   ]
  },
  {
   "cell_type": "markdown",
   "metadata": {},
   "source": [
    "## Part 2"
   ]
  },
  {
   "cell_type": "code",
   "execution_count": 10,
   "metadata": {},
   "outputs": [
    {
     "name": "stdout",
     "output_type": "stream",
     "text": [
      "1947878632\n"
     ]
    }
   ],
   "source": [
    "depth = 0\n",
    "horiz = 0\n",
    "aim = 0\n",
    "\n",
    "for i in x:\n",
    "    sp = i.split(' ')\n",
    "    direction = sp[0]\n",
    "    amount = int(sp[1])\n",
    "    \n",
    "    if direction == 'forward':\n",
    "        horiz += amount\n",
    "        depth += aim*amount\n",
    "    elif direction == 'down':\n",
    "        aim += amount\n",
    "    elif direction == 'up':\n",
    "        aim -= amount\n",
    "        \n",
    "print(depth*horiz)"
   ]
  }
 ],
 "metadata": {
  "kernelspec": {
   "display_name": "Python 3",
   "language": "python",
   "name": "python3"
  },
  "language_info": {
   "codemirror_mode": {
    "name": "ipython",
    "version": 3
   },
   "file_extension": ".py",
   "mimetype": "text/x-python",
   "name": "python",
   "nbconvert_exporter": "python",
   "pygments_lexer": "ipython3",
   "version": "3.7.3"
  }
 },
 "nbformat": 4,
 "nbformat_minor": 2
}
