{
 "cells": [
  {
   "cell_type": "code",
   "execution_count": null,
   "metadata": {},
   "outputs": [],
   "source": [
    "name = 'input'\n",
    "\n",
    "with open(f'{name}.txt') as f:\n",
    "    t = f.read().split('\\n')"
   ]
  },
  {
   "cell_type": "code",
   "execution_count": null,
   "metadata": {},
   "outputs": [],
   "source": [
    "def points_from_line(line, part):\n",
    "    points = line.split(' -> ')\n",
    "    x1, y1 = [int(i) for i in points[0].split(',')]\n",
    "    x2, y2 = [int(i) for i in points[1].split(',')]\n",
    "\n",
    "    if (x1 == x2):\n",
    "        return [ (x1, y) for y in range(min(y1, y2), max(y1, y2)+1)]\n",
    "    elif (y1 == y2):\n",
    "        return [ (x, y1) for x in range(min(x1, x2), max(x1, x2)+1)]\n",
    "    else:\n",
    "        if part == 1:\n",
    "            return []\n",
    "        else:\n",
    "            return [(x, y) for x,y in zip(range(x1, x2+2*(x2>x1) - 1, 2*(x2>x1) - 1), range(y1, y2+2*(y2>y1) - 1, 2*(y2>y1) - 1)) ]"
   ]
  },
  {
   "cell_type": "markdown",
   "metadata": {},
   "source": [
    "## Part 1"
   ]
  },
  {
   "cell_type": "code",
   "execution_count": null,
   "metadata": {},
   "outputs": [],
   "source": [
    "point_list = []\n",
    "for line in t:\n",
    "    point_list += points_from_line(line, part=1)\n",
    "    \n",
    "seen = set() \n",
    "duplicates = set(x for x in point_list if x in seen or seen.add(x))\n",
    "\n",
    "print(len(duplicates))"
   ]
  },
  {
   "cell_type": "markdown",
   "metadata": {},
   "source": [
    "## Part 2"
   ]
  },
  {
   "cell_type": "code",
   "execution_count": null,
   "metadata": {},
   "outputs": [],
   "source": [
    "point_list = []\n",
    "for line in t:\n",
    "    point_list += points_from_line(line, part=2)\n",
    "seen = set() \n",
    "duplicates = set(x for x in point_list if x in seen or seen.add(x))\n",
    "\n",
    "print(len(duplicates))"
   ]
  }
 ],
 "metadata": {
  "kernelspec": {
   "display_name": "Python 3",
   "language": "python",
   "name": "python3"
  },
  "language_info": {
   "codemirror_mode": {
    "name": "ipython",
    "version": 3
   },
   "file_extension": ".py",
   "mimetype": "text/x-python",
   "name": "python",
   "nbconvert_exporter": "python",
   "pygments_lexer": "ipython3",
   "version": "3.7.3"
  }
 },
 "nbformat": 4,
 "nbformat_minor": 2
}
