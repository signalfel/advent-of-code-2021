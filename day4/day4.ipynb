{
 "cells": [
  {
   "cell_type": "code",
   "execution_count": null,
   "metadata": {},
   "outputs": [],
   "source": [
    "import pandas as pd"
   ]
  },
  {
   "cell_type": "code",
   "execution_count": null,
   "metadata": {},
   "outputs": [],
   "source": [
    "name = 'input'\n",
    "\n",
    "boards = []\n",
    "with open(f'{name}.txt') as f:\n",
    "    nums = f.readline().strip('\\n')\n",
    "    next(f)\n",
    "    while True:\n",
    "        df = pd.DataFrame([ [int(s) for s in next(f).strip('\\n').split(' ') if s] for i in range(5)])\n",
    "        boards.append(df)\n",
    "        try:\n",
    "            next(f)\n",
    "        except StopIteration:\n",
    "            break\n",
    "\n",
    "numbers = [int(s) for s in nums.split(',')]"
   ]
  },
  {
   "cell_type": "markdown",
   "metadata": {},
   "source": [
    "## Part 1"
   ]
  },
  {
   "cell_type": "code",
   "execution_count": null,
   "metadata": {},
   "outputs": [],
   "source": [
    "bingo = False\n",
    "for num in numbers:\n",
    "    for board in boards:\n",
    "        board[board == num] = -1\n",
    "\n",
    "        if any(board.sum(axis=0) == -5) or any(board.sum(axis=1) == -5):\n",
    "            bingo = True\n",
    "            winning_board = board.copy()\n",
    "            break\n",
    "    if bingo:\n",
    "        break\n",
    "winning_board[winning_board != -1].sum().sum() * num"
   ]
  },
  {
   "cell_type": "markdown",
   "metadata": {},
   "source": [
    "## Part 2"
   ]
  },
  {
   "cell_type": "code",
   "execution_count": null,
   "metadata": {},
   "outputs": [],
   "source": [
    "for num in numbers:\n",
    "    bingos = []\n",
    "    for i, board in enumerate(boards):\n",
    "        board[board == num] = -1\n",
    "\n",
    "        if any(board.sum(axis=0) == -5) or any(board.sum(axis=1) == -5):\n",
    "            bingos.append(i)\n",
    "    if bingos:\n",
    "        if len(boards) > 1:           \n",
    "            for ele in sorted(bingos, reverse = True):\n",
    "                del boards[ele]\n",
    "        else:\n",
    "            break\n",
    "losing_board = boards[0]\n",
    "\n",
    "losing_board[losing_board != -1].sum().sum() * num"
   ]
  }
 ],
 "metadata": {
  "kernelspec": {
   "display_name": "Python 3",
   "language": "python",
   "name": "python3"
  },
  "language_info": {
   "codemirror_mode": {
    "name": "ipython",
    "version": 3
   },
   "file_extension": ".py",
   "mimetype": "text/x-python",
   "name": "python",
   "nbconvert_exporter": "python",
   "pygments_lexer": "ipython3",
   "version": "3.7.3"
  }
 },
 "nbformat": 4,
 "nbformat_minor": 2
}
