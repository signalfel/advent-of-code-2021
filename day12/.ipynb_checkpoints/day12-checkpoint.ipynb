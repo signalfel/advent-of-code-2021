{
 "cells": [
  {
   "cell_type": "code",
   "execution_count": null,
   "metadata": {},
   "outputs": [],
   "source": [
    "name = 'input'\n",
    "\n",
    "with open(f'{name}.txt') as f:\n",
    "    t = f.read().split('\\n')"
   ]
  },
  {
   "cell_type": "code",
   "execution_count": null,
   "metadata": {},
   "outputs": [],
   "source": [
    "def check_visited(visited):\n",
    "    for k, v in visited.items():\n",
    "        if k.islower():\n",
    "            if v == 2:\n",
    "                return False\n",
    "    return True\n",
    "\n",
    "class Graph:\n",
    "    def __init__(self, verteces):\n",
    "        self.adj = {v: [] for v in verteces}\n",
    "\n",
    "    def addEdge(self, u, v):\n",
    "        self.adj[u].append(v)\n",
    "    \n",
    "    def __repr__(self):\n",
    "        return ''.join([f'{k} : {v}\\n' for k, v in self.adj.items()])\n",
    "    \n",
    "    def traverse(self, start, end, allow_two_visits = False):\n",
    "        \n",
    "        visited = {k: 0 for k in self.adj.keys()}\n",
    "        pathCount = self.visit(start, end, visited, 0, allow_two_visits)\n",
    "        return pathCount\n",
    "    \n",
    "    def visit(self, sou, dest, visited, pathCount, allow_two_visits):\n",
    "        visited[sou] += 1\n",
    "        \n",
    "        if sou == dest:\n",
    "            pathCount += 1\n",
    "        else:\n",
    "            for nei in self.adj[sou]:\n",
    "                if nei == 'start':\n",
    "                    pass\n",
    "                elif nei.isupper() or (not visited[nei]) or (allow_two_visits and check_visited(visited)):\n",
    "                    pathCount = self.visit(nei, dest, visited, pathCount, allow_two_visits)\n",
    "        \n",
    "        visited[sou] -= 1\n",
    "        return pathCount"
   ]
  },
  {
   "cell_type": "code",
   "execution_count": null,
   "metadata": {},
   "outputs": [],
   "source": [
    "edges = set()\n",
    "for c in t:\n",
    "    for e in c.split('-'):\n",
    "        edges.add(e)\n",
    "        \n",
    "g = Graph(edges)\n",
    "\n",
    "for c in t:\n",
    "    s, f = c.split('-')\n",
    "    g.addEdge(s, f)\n",
    "    g.addEdge(f, s)"
   ]
  },
  {
   "cell_type": "markdown",
   "metadata": {},
   "source": [
    "# Part 1"
   ]
  },
  {
   "cell_type": "code",
   "execution_count": null,
   "metadata": {},
   "outputs": [],
   "source": [
    "g.traverse('start', 'end')"
   ]
  },
  {
   "cell_type": "markdown",
   "metadata": {},
   "source": [
    "# Part 2"
   ]
  },
  {
   "cell_type": "code",
   "execution_count": null,
   "metadata": {},
   "outputs": [],
   "source": [
    "g.traverse('start', 'end', allow_two_visits=True)"
   ]
  }
 ],
 "metadata": {
  "kernelspec": {
   "display_name": "Python 3",
   "language": "python",
   "name": "python3"
  },
  "language_info": {
   "codemirror_mode": {
    "name": "ipython",
    "version": 3
   },
   "file_extension": ".py",
   "mimetype": "text/x-python",
   "name": "python",
   "nbconvert_exporter": "python",
   "pygments_lexer": "ipython3",
   "version": "3.7.3"
  }
 },
 "nbformat": 4,
 "nbformat_minor": 2
}
