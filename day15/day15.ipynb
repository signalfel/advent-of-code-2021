{
 "cells": [
  {
   "cell_type": "code",
   "execution_count": 1,
   "metadata": {},
   "outputs": [],
   "source": [
    "import numpy as np"
   ]
  },
  {
   "cell_type": "code",
   "execution_count": 130,
   "metadata": {},
   "outputs": [],
   "source": [
    "name = 'input'\n",
    "\n",
    "with open(f'{name}.txt') as f:\n",
    "    t = f.read().split('\\n')\n",
    "    \n",
    "input_matrix = np.array([[int(i) for i in line] for line in t])"
   ]
  },
  {
   "cell_type": "code",
   "execution_count": 53,
   "metadata": {},
   "outputs": [],
   "source": [
    "A = input_matrix.copy()\n",
    "N, _ = np.shape(A)\n",
    "\n",
    "def backward_diagonal_transform(p, q, N):\n",
    "    if p <= N - 1:\n",
    "        i = p - q\n",
    "        j = q\n",
    "    else:\n",
    "        i = N - 1 - q\n",
    "        j = p - N + 1 + q\n",
    "    \n",
    "    return i, j\n",
    "    \n",
    "\n",
    "for p in reversed(range(1,2*N-2)):\n",
    "    if p <= (N - 1):\n",
    "        qrange = p + 1\n",
    "    else:\n",
    "        qrange = 2*N - 1 - p\n",
    "        \n",
    "    \n",
    "    for q in range(qrange):\n",
    "        i, j = backward_diagonal_transform(p, q, N)\n",
    "        \n",
    "        if i == N-1:\n",
    "            A[i, j] += A[i, j+1]\n",
    "        elif j == N-1:\n",
    "            A[i, j] += A[i+1, j]\n",
    "        \n",
    "        else:\n",
    "            A[i, j] += min(A[i+1, j], A[i, j+1])\n",
    "    \n",
    "    "
   ]
  },
  {
   "cell_type": "code",
   "execution_count": 36,
   "metadata": {},
   "outputs": [
    {
     "name": "stdout",
     "output_type": "stream",
     "text": [
      "673\n"
     ]
    }
   ],
   "source": [
    "print(min(A[1, 0], A[0,1]))"
   ]
  },
  {
   "cell_type": "markdown",
   "metadata": {},
   "source": [
    "## Part 2"
   ]
  },
  {
   "cell_type": "code",
   "execution_count": 52,
   "metadata": {},
   "outputs": [],
   "source": [
    "matrices = [input_matrix.copy()]\n",
    "for step in range(4):\n",
    "    new_matrix = matrices[step] + 1\n",
    "    new_matrix[new_matrix == 10] = 1\n",
    "    matrices.append(new_matrix)\n",
    "\n",
    "columns = []\n",
    "for step in range(5):\n",
    "    current_matrix = matrices[step].copy()\n",
    "    \n",
    "    column = [current_matrix]\n",
    "    for step in range(4):\n",
    "        new_matrix = current_matrix + 1\n",
    "        new_matrix[new_matrix == 10] = 1\n",
    "        column.append(new_matrix)\n",
    "        current_matrix = new_matrix\n",
    "    \n",
    "    columns.append(np.concatenate(column))"
   ]
  },
  {
   "cell_type": "code",
   "execution_count": 53,
   "metadata": {},
   "outputs": [],
   "source": [
    "p2_matrix = np.concatenate(columns, axis=1)"
   ]
  },
  {
   "cell_type": "code",
   "execution_count": 64,
   "metadata": {},
   "outputs": [
    {
     "data": {
      "text/plain": [
       "100"
      ]
     },
     "execution_count": 64,
     "metadata": {},
     "output_type": "execute_result"
    }
   ],
   "source": [
    "N"
   ]
  },
  {
   "cell_type": "code",
   "execution_count": 54,
   "metadata": {},
   "outputs": [],
   "source": [
    "B = p2_matrix.copy()\n",
    "N, _ = np.shape(B)\n",
    "\n",
    "def backward_diagonal_transform(p, q, N):\n",
    "    if p <= N - 1:\n",
    "        i = p - q\n",
    "        j = q\n",
    "    else:\n",
    "        i = N - 1 - q\n",
    "        j = p - N + 1 + q\n",
    "    \n",
    "    return i, j\n",
    "    \n",
    "\n",
    "for p in reversed(range(1,2*N-2)):\n",
    "    if p <= (N - 1):\n",
    "        qrange = p + 1\n",
    "    else:\n",
    "        qrange = 2*N - 1 - p\n",
    "        \n",
    "    \n",
    "    for q in range(qrange):\n",
    "        i, j = backward_diagonal_transform(p, q, N)\n",
    "        \n",
    "        if i == N-1:\n",
    "            B[i, j] += B[i, j+1]\n",
    "        elif j == N-1:\n",
    "            B[i, j] += B[i+1, j]\n",
    "        \n",
    "        else:\n",
    "            B[i, j] += min(B[i+1, j], B[i, j+1])\n",
    "    \n",
    "    "
   ]
  },
  {
   "cell_type": "code",
   "execution_count": 55,
   "metadata": {},
   "outputs": [
    {
     "name": "stdout",
     "output_type": "stream",
     "text": [
      "2908\n"
     ]
    }
   ],
   "source": [
    "print(min(B[1, 0], B[0,1]))"
   ]
  },
  {
   "cell_type": "markdown",
   "metadata": {},
   "source": [
    "# Part 2 with A*"
   ]
  },
  {
   "cell_type": "code",
   "execution_count": 54,
   "metadata": {},
   "outputs": [],
   "source": [
    "import networkx as nx\n",
    "def dist(a, b):\n",
    "    (x1, y1) = a\n",
    "    (x2, y2) = b\n",
    "    return abs(x1 - x2) + abs(y1 - y2)"
   ]
  },
  {
   "cell_type": "code",
   "execution_count": 133,
   "metadata": {},
   "outputs": [],
   "source": [
    "matrices = [input_matrix.copy()]\n",
    "for step in range(4):\n",
    "    new_matrix = matrices[step] + 1\n",
    "    new_matrix[new_matrix == 10] = 1\n",
    "    matrices.append(new_matrix)\n",
    "\n",
    "columns = []\n",
    "for step in range(5):\n",
    "    current_matrix = matrices[step].copy()\n",
    "    \n",
    "    column = [current_matrix]\n",
    "    for step in range(4):\n",
    "        new_matrix = current_matrix + 1\n",
    "        new_matrix[new_matrix == 10] = 1\n",
    "        column.append(new_matrix)\n",
    "        current_matrix = new_matrix\n",
    "    \n",
    "    columns.append(np.concatenate(column))\n",
    "p2_matrix = np.concatenate(columns, axis=1)"
   ]
  },
  {
   "cell_type": "code",
   "execution_count": 134,
   "metadata": {},
   "outputs": [],
   "source": [
    "M = p2_matrix.copy()\n",
    "G = nx.DiGraph()\n",
    "n = M.shape[0]\n",
    "for i in range(n):\n",
    "    for j in range(n):\n",
    "        if not (i, j) in G:\n",
    "            G.add_node((i,j))\n",
    "        for direction in [(0, -1), (0, 1), (-1, 0), (1, 0)]: # Adjacent squares\n",
    "                new_tile = (i + direction[0],\n",
    "                            j + direction[1])\n",
    "                \n",
    "                if (new_tile[0] > n-1) or (new_tile[0] < 0) or (new_tile[1] > n-1) or (new_tile[1] < 0):\n",
    "                    continue\n",
    "\n",
    "                G.add_edge((i,j), new_tile, cost = M[new_tile])"
   ]
  },
  {
   "cell_type": "code",
   "execution_count": 135,
   "metadata": {},
   "outputs": [
    {
     "data": {
      "text/plain": [
       "2893"
      ]
     },
     "execution_count": 135,
     "metadata": {},
     "output_type": "execute_result"
    }
   ],
   "source": [
    "nx.astar_path_length(G, (0,0), (n-1,n-1), heuristic=dist, weight='cost')"
   ]
  }
 ],
 "metadata": {
  "kernelspec": {
   "display_name": "Python 3 (ipykernel)",
   "language": "python",
   "name": "python3"
  },
  "language_info": {
   "codemirror_mode": {
    "name": "ipython",
    "version": 3
   },
   "file_extension": ".py",
   "mimetype": "text/x-python",
   "name": "python",
   "nbconvert_exporter": "python",
   "pygments_lexer": "ipython3",
   "version": "3.9.15"
  }
 },
 "nbformat": 4,
 "nbformat_minor": 4
}
