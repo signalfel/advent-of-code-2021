{
 "cells": [
  {
   "cell_type": "code",
   "execution_count": 61,
   "metadata": {},
   "outputs": [],
   "source": [
    "import numpy as np"
   ]
  },
  {
   "cell_type": "code",
   "execution_count": 62,
   "metadata": {},
   "outputs": [],
   "source": [
    "name = 'input'\n",
    "\n",
    "with open(f'{name}.txt') as f:\n",
    "    t = f.read().split('\\n')\n",
    "    \n",
    "input_matrix = np.array([[int(i) for i in line] for line in t])"
   ]
  },
  {
   "cell_type": "code",
   "execution_count": 63,
   "metadata": {},
   "outputs": [],
   "source": [
    "A = input_matrix.copy()\n",
    "N, _ = np.shape(A)\n",
    "\n",
    "def backward_diagonal_transform(p, q, N):\n",
    "    if p <= N - 1:\n",
    "        i = p - q\n",
    "        j = q\n",
    "    else:\n",
    "        i = N - 1 - q\n",
    "        j = p - N + 1 + q\n",
    "    \n",
    "    return i, j\n",
    "    \n",
    "\n",
    "for p in reversed(range(1,2*N-2)):\n",
    "    if p <= (N - 1):\n",
    "        qrange = p + 1\n",
    "    else:\n",
    "        qrange = 2*N - 1 - p\n",
    "        \n",
    "    \n",
    "    for q in range(qrange):\n",
    "        i, j = backward_diagonal_transform(p, q, N)\n",
    "        \n",
    "        if i == N-1:\n",
    "            A[i, j] += A[i, j+1]\n",
    "        elif j == N-1:\n",
    "            A[i, j] += A[i+1, j]\n",
    "        \n",
    "        else:\n",
    "            A[i, j] += min(A[i+1, j], A[i, j+1])\n",
    "    \n",
    "    "
   ]
  },
  {
   "cell_type": "code",
   "execution_count": 51,
   "metadata": {},
   "outputs": [
    {
     "name": "stdout",
     "output_type": "stream",
     "text": [
      "673\n"
     ]
    }
   ],
   "source": [
    "print(min(A[1, 0], A[0,1]))"
   ]
  },
  {
   "cell_type": "markdown",
   "metadata": {},
   "source": [
    "## Part 2"
   ]
  },
  {
   "cell_type": "code",
   "execution_count": 52,
   "metadata": {},
   "outputs": [],
   "source": [
    "matrices = [input_matrix.copy()]\n",
    "for step in range(4):\n",
    "    new_matrix = matrices[step] + 1\n",
    "    new_matrix[new_matrix == 10] = 1\n",
    "    matrices.append(new_matrix)\n",
    "\n",
    "columns = []\n",
    "for step in range(5):\n",
    "    current_matrix = matrices[step].copy()\n",
    "    \n",
    "    column = [current_matrix]\n",
    "    for step in range(4):\n",
    "        new_matrix = current_matrix + 1\n",
    "        new_matrix[new_matrix == 10] = 1\n",
    "        column.append(new_matrix)\n",
    "        current_matrix = new_matrix\n",
    "    \n",
    "    columns.append(np.concatenate(column))"
   ]
  },
  {
   "cell_type": "code",
   "execution_count": 53,
   "metadata": {},
   "outputs": [],
   "source": [
    "p2_matrix = np.concatenate(columns, axis=1)"
   ]
  },
  {
   "cell_type": "code",
   "execution_count": 64,
   "metadata": {},
   "outputs": [
    {
     "data": {
      "text/plain": [
       "100"
      ]
     },
     "execution_count": 64,
     "metadata": {},
     "output_type": "execute_result"
    }
   ],
   "source": [
    "N"
   ]
  },
  {
   "cell_type": "code",
   "execution_count": 54,
   "metadata": {},
   "outputs": [],
   "source": [
    "B = p2_matrix.copy()\n",
    "N, _ = np.shape(B)\n",
    "\n",
    "def backward_diagonal_transform(p, q, N):\n",
    "    if p <= N - 1:\n",
    "        i = p - q\n",
    "        j = q\n",
    "    else:\n",
    "        i = N - 1 - q\n",
    "        j = p - N + 1 + q\n",
    "    \n",
    "    return i, j\n",
    "    \n",
    "\n",
    "for p in reversed(range(1,2*N-2)):\n",
    "    if p <= (N - 1):\n",
    "        qrange = p + 1\n",
    "    else:\n",
    "        qrange = 2*N - 1 - p\n",
    "        \n",
    "    \n",
    "    for q in range(qrange):\n",
    "        i, j = backward_diagonal_transform(p, q, N)\n",
    "        \n",
    "        if i == N-1:\n",
    "            B[i, j] += B[i, j+1]\n",
    "        elif j == N-1:\n",
    "            B[i, j] += B[i+1, j]\n",
    "        \n",
    "        else:\n",
    "            B[i, j] += min(B[i+1, j], B[i, j+1])\n",
    "    \n",
    "    "
   ]
  },
  {
   "cell_type": "code",
   "execution_count": 55,
   "metadata": {},
   "outputs": [
    {
     "name": "stdout",
     "output_type": "stream",
     "text": [
      "2908\n"
     ]
    }
   ],
   "source": [
    "print(min(B[1, 0], B[0,1]))"
   ]
  },
  {
   "cell_type": "code",
   "execution_count": 67,
   "metadata": {},
   "outputs": [
    {
     "data": {
      "text/plain": [
       "array([[   2, 2908, 2908, 2899, 2895, 2907, 2901, 2895, 2903, 2897],\n",
       "       [2911, 2904, 2908, 2902, 2894, 2899, 2893, 2888, 2894, 2894],\n",
       "       [2907, 2902, 2902, 2893, 2892, 2890, 2889, 2887, 2888, 2890],\n",
       "       [2903, 2901, 2914, 2909, 2906, 2901, 2893, 2884, 2880, 2882],\n",
       "       [2906, 2900, 2908, 2901, 2905, 2897, 2894, 2885, 2879, 2880],\n",
       "       [2903, 2899, 2902, 2898, 2896, 2894, 2885, 2882, 2877, 2872],\n",
       "       [2898, 2891, 2893, 2889, 2890, 2889, 2880, 2876, 2875, 2874],\n",
       "       [2896, 2887, 2885, 2884, 2887, 2886, 2877, 2882, 2875, 2875],\n",
       "       [2892, 2888, 2879, 2878, 2879, 2877, 2875, 2878, 2874, 2868],\n",
       "       [2885, 2884, 2880, 2871, 2870, 2876, 2874, 2869, 2867, 2859]])"
      ]
     },
     "execution_count": 67,
     "metadata": {},
     "output_type": "execute_result"
    }
   ],
   "source": [
    "B[0:10, 0:10]"
   ]
  },
  {
   "cell_type": "code",
   "execution_count": 68,
   "metadata": {},
   "outputs": [
    {
     "data": {
      "text/plain": [
       "array([[2, 4, 9, 4, 1, 8, 8, 7, 9, 5],\n",
       "       [7, 2, 6, 9, 2, 9, 5, 1, 6, 6],\n",
       "       [5, 1, 9, 1, 2, 1, 2, 3, 8, 8],\n",
       "       [2, 1, 6, 8, 5, 8, 9, 4, 1, 8],\n",
       "       [6, 1, 7, 3, 9, 3, 9, 6, 2, 8],\n",
       "       [5, 8, 9, 9, 6, 9, 5, 6, 5, 1],\n",
       "       [7, 4, 8, 5, 3, 9, 4, 1, 1, 2],\n",
       "       [9, 2, 6, 6, 8, 9, 2, 7, 1, 9],\n",
       "       [7, 9, 1, 7, 9, 2, 1, 9, 7, 9],\n",
       "       [1, 4, 9, 1, 2, 3, 6, 2, 8, 4]])"
      ]
     },
     "execution_count": 68,
     "metadata": {},
     "output_type": "execute_result"
    }
   ],
   "source": [
    "p2_matrix[0:10, 0:10]"
   ]
  },
  {
   "cell_type": "code",
   "execution_count": null,
   "metadata": {},
   "outputs": [],
   "source": [
    "f"
   ]
  }
 ],
 "metadata": {
  "kernelspec": {
   "display_name": "Python 3",
   "language": "python",
   "name": "python3"
  },
  "language_info": {
   "codemirror_mode": {
    "name": "ipython",
    "version": 3
   },
   "file_extension": ".py",
   "mimetype": "text/x-python",
   "name": "python",
   "nbconvert_exporter": "python",
   "pygments_lexer": "ipython3",
   "version": "3.7.3"
  }
 },
 "nbformat": 4,
 "nbformat_minor": 2
}
