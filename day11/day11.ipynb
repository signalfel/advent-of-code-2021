{
 "cells": [
  {
   "cell_type": "code",
   "execution_count": null,
   "metadata": {},
   "outputs": [],
   "source": [
    "import pandas as pd\n",
    "import numpy as np"
   ]
  },
  {
   "cell_type": "code",
   "execution_count": null,
   "metadata": {},
   "outputs": [],
   "source": [
    "name = 'test'\n",
    "\n",
    "with open(f'{name}.txt') as f:\n",
    "    t = f.read().split('\\n')\n",
    "    \n",
    "lists = []\n",
    "for l in t:\n",
    "    lists.append([int(i) for i in l])\n",
    "df = pd.DataFrame(lists)"
   ]
  },
  {
   "cell_type": "code",
   "execution_count": null,
   "metadata": {},
   "outputs": [],
   "source": [
    "def handle_point(k, l, df, M, N, queue, flashed):\n",
    "    if (k >= 0) and (l >= 0) and (k <= M-1) and (l <= N-1):\n",
    "        df.iloc[k, l] = df.iloc[k, l] + 1\n",
    "        if df.iloc[k, l] > 9 and not ((k, l) in flashed) and not ((k, l) in queue):\n",
    "            queue.insert(0, (k,l))\n",
    "    return queue, df"
   ]
  },
  {
   "cell_type": "markdown",
   "metadata": {},
   "source": [
    "## Parts 1 & 2"
   ]
  },
  {
   "cell_type": "code",
   "execution_count": null,
   "metadata": {
    "scrolled": true
   },
   "outputs": [],
   "source": [
    "M, N = df.shape\n",
    "\n",
    "found_sync = False\n",
    "step = 0\n",
    "n_total_flashes = 0\n",
    "while not found_sync:\n",
    "    step += 1\n",
    "    df = df + 1\n",
    "    \n",
    "    if (df > 9).any().any():\n",
    "        flash = df > 9\n",
    "        \n",
    "        queue = list(zip(*np.where(flash)))\n",
    "        flashed = []\n",
    "        \n",
    "        while queue:\n",
    "            k, l = queue.pop()\n",
    "            \n",
    "            flashed.append((k,l))\n",
    "\n",
    "            queue, df = handle_point(k-1, l-1, df, M, N, queue, flashed)\n",
    "            queue, df = handle_point(k-1, l, df, M, N, queue, flashed)\n",
    "            queue, df = handle_point(k-1, l+1, df, M, N, queue, flashed)\n",
    "            queue, df = handle_point(k, l-1, df, M, N, queue, flashed)\n",
    "            queue, df = handle_point(k, l+1, df, M, N, queue, flashed)\n",
    "            queue, df = handle_point(k+1, l-1, df, M, N, queue, flashed)\n",
    "            queue, df = handle_point(k+1, l, df, M, N, queue, flashed)\n",
    "            queue, df = handle_point(k+1, l+1, df, M, N, queue, flashed)\n",
    "        \n",
    "        for i, j in flashed:\n",
    "            n_total_flashes += 1\n",
    "            df.iloc[i, j] = 0\n",
    "    if step == 100:\n",
    "        n_total_flashes_at_100 = n_total_flashes\n",
    "    \n",
    "    if (df == 0).all().all():\n",
    "        found_sync = True\n",
    "        sync_step = step\n",
    "\n",
    "print(n_total_flashes_at_100)\n",
    "print(sync_step)"
   ]
  },
  {
   "cell_type": "code",
   "execution_count": null,
   "metadata": {},
   "outputs": [],
   "source": []
  }
 ],
 "metadata": {
  "kernelspec": {
   "display_name": "Python 3",
   "language": "python",
   "name": "python3"
  },
  "language_info": {
   "codemirror_mode": {
    "name": "ipython",
    "version": 3
   },
   "file_extension": ".py",
   "mimetype": "text/x-python",
   "name": "python",
   "nbconvert_exporter": "python",
   "pygments_lexer": "ipython3",
   "version": "3.7.3"
  }
 },
 "nbformat": 4,
 "nbformat_minor": 2
}
