{
 "cells": [
  {
   "cell_type": "code",
   "execution_count": null,
   "metadata": {},
   "outputs": [],
   "source": [
    "import pandas as pd\n",
    "import numpy as np"
   ]
  },
  {
   "cell_type": "code",
   "execution_count": null,
   "metadata": {},
   "outputs": [],
   "source": [
    "name = 'input'\n",
    "\n",
    "with open(f'{name}.txt') as f:\n",
    "    t = f.read().split('\\n')\n",
    "    \n",
    "lists = []\n",
    "for l in t:\n",
    "    lists.append([float(i) for i in l])\n",
    "df = pd.DataFrame(lists)"
   ]
  },
  {
   "cell_type": "markdown",
   "metadata": {},
   "source": [
    "## Part 1"
   ]
  },
  {
   "cell_type": "code",
   "execution_count": null,
   "metadata": {},
   "outputs": [],
   "source": [
    "lt_above = (df < df.shift(1, fill_value=np.inf))\n",
    "lt_below = (df < df.shift(-1, fill_value=np.inf))\n",
    "lt_left = (df < df.shift(1, axis=1, fill_value=np.inf))\n",
    "lt_right = (df < df.shift(-1, axis=1, fill_value=np.inf))\n",
    "\n",
    "print((1 + df[lt_above & lt_below & lt_left & lt_right]).sum().sum())"
   ]
  },
  {
   "cell_type": "markdown",
   "metadata": {},
   "source": [
    "## Part 2"
   ]
  },
  {
   "cell_type": "code",
   "execution_count": null,
   "metadata": {},
   "outputs": [],
   "source": [
    "lps = lt_above & lt_below & lt_left & lt_right\n",
    "n_lps = lps.sum().sum()"
   ]
  },
  {
   "cell_type": "code",
   "execution_count": null,
   "metadata": {},
   "outputs": [],
   "source": [
    "df[df == 9] = np.nan"
   ]
  },
  {
   "cell_type": "code",
   "execution_count": null,
   "metadata": {},
   "outputs": [],
   "source": [
    "def handle_point(k, l, df, queue, done, M, N):\n",
    "    if (k >= 0) and (l >= 0) and (k <= M-1) and (l <= N-1):\n",
    "        if (k, l) not in done and not pd.isna(df.iloc[k, l]):\n",
    "            queue.append((k, l))\n",
    "    return queue"
   ]
  },
  {
   "cell_type": "code",
   "execution_count": null,
   "metadata": {},
   "outputs": [],
   "source": [
    "z = 0\n",
    "M, N = df.shape\n",
    "for i,j in zip(*pd.np.where(lps)):\n",
    "\n",
    "    \n",
    "    done = []\n",
    "    queue = [(i, j)]\n",
    "    while queue:\n",
    "        k, l = queue.pop()\n",
    "        df.iloc[k, l] = -z\n",
    "        done.append((k,l))\n",
    "        \n",
    "        queue = handle_point(k-1, l, df, queue, done, M, N)\n",
    "        queue = handle_point(k, l-1, df, queue, done, M, N)\n",
    "        queue = handle_point(k+1, l, df, queue, done, M, N)\n",
    "        queue = handle_point(k, l+1, df, queue, done, M, N)\n",
    "        \n",
    "        \n",
    "    z+=1"
   ]
  },
  {
   "cell_type": "code",
   "execution_count": null,
   "metadata": {},
   "outputs": [],
   "source": [
    "counts = []\n",
    "for z in range(n_lps):\n",
    "    counts.append((df == -z).sum().sum())"
   ]
  },
  {
   "cell_type": "code",
   "execution_count": null,
   "metadata": {},
   "outputs": [],
   "source": [
    "np.prod(sorted(counts)[-3:])"
   ]
  }
 ],
 "metadata": {
  "kernelspec": {
   "display_name": "Python 3",
   "language": "python",
   "name": "python3"
  },
  "language_info": {
   "codemirror_mode": {
    "name": "ipython",
    "version": 3
   },
   "file_extension": ".py",
   "mimetype": "text/x-python",
   "name": "python",
   "nbconvert_exporter": "python",
   "pygments_lexer": "ipython3",
   "version": "3.7.3"
  }
 },
 "nbformat": 4,
 "nbformat_minor": 2
}
