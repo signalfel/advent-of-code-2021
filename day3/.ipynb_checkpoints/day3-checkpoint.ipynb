{
 "cells": [
  {
   "cell_type": "code",
   "execution_count": 74,
   "metadata": {},
   "outputs": [],
   "source": [
    "import numpy as np"
   ]
  },
  {
   "cell_type": "code",
   "execution_count": 148,
   "metadata": {},
   "outputs": [],
   "source": [
    "name = 'input'\n",
    "\n",
    "with open(f'{name}.txt') as f:\n",
    "    x = f.read().split('\\n')\n",
    "    \n",
    "xlists =  [list(i) for i in x]\n",
    "xmatrix = np.array(xlists)"
   ]
  },
  {
   "cell_type": "markdown",
   "metadata": {},
   "source": [
    "## Part 1"
   ]
  },
  {
   "cell_type": "code",
   "execution_count": 118,
   "metadata": {},
   "outputs": [],
   "source": [
    "gamma = ''\n",
    "epsilon = ''\n",
    "for bit in range(np.size(xmatrix, 1)):\n",
    "    col = list(xmatrix[:,bit])\n",
    "    \n",
    "    most_common = str(int(col.count('1') >= col.count('0')))\n",
    "    least_common = str(1 - int(most_common))\n",
    "    \n",
    "    gamma += most_common\n",
    "    epsilon += least_common"
   ]
  },
  {
   "cell_type": "code",
   "execution_count": 119,
   "metadata": {},
   "outputs": [
    {
     "name": "stdout",
     "output_type": "stream",
     "text": [
      "198\n"
     ]
    }
   ],
   "source": [
    "print(int(gamma, 2) * int(epsilon, 2))"
   ]
  },
  {
   "cell_type": "markdown",
   "metadata": {},
   "source": [
    "## Part 2"
   ]
  },
  {
   "cell_type": "code",
   "execution_count": 149,
   "metadata": {},
   "outputs": [
    {
     "name": "stdout",
     "output_type": "stream",
     "text": [
      "2784375\n"
     ]
    }
   ],
   "source": [
    "o2_matrix = xmatrix.copy()\n",
    "do_o2 = True\n",
    "\n",
    "co2_matrix = xmatrix.copy()\n",
    "do_co2 = True\n",
    "\n",
    "for bit in range(np.size(xmatrix, 1)):\n",
    "    \n",
    "    o2_col = list(o2_matrix[:,bit])\n",
    "    co2_col = list(co2_matrix[:,bit])\n",
    "    \n",
    "    # 1 at equality\n",
    "    most_common = str(int(o2_col.count('1') >= o2_col.count('0')))\n",
    "    \n",
    "    # 0 at equality\n",
    "    least_common = str(int(co2_col.count('1') < co2_col.count('0')))\n",
    "    \n",
    "    \n",
    "    if do_o2:\n",
    "        o2_matrix = o2_matrix[o2_matrix[:, bit] == most_common]\n",
    "    \n",
    "    if do_co2:\n",
    "        co2_matrix = co2_matrix[co2_matrix[:, bit] == least_common]\n",
    "    \n",
    "    \n",
    "    do_o2 = np.size(o2_matrix, 0) > 1\n",
    "    do_co2 = np.size(co2_matrix, 0) > 1\n",
    "\n",
    "o2 = ''.join(list(o2_matrix[0,:]))\n",
    "co2 = ''.join(list(co2_matrix[0,:]))\n",
    "\n",
    "print(int(o2, 2) * int(co2, 2))"
   ]
  }
 ],
 "metadata": {
  "kernelspec": {
   "display_name": "Python 3",
   "language": "python",
   "name": "python3"
  },
  "language_info": {
   "codemirror_mode": {
    "name": "ipython",
    "version": 3
   },
   "file_extension": ".py",
   "mimetype": "text/x-python",
   "name": "python",
   "nbconvert_exporter": "python",
   "pygments_lexer": "ipython3",
   "version": "3.7.3"
  }
 },
 "nbformat": 4,
 "nbformat_minor": 2
}
