{
 "cells": [
  {
   "cell_type": "code",
   "execution_count": null,
   "metadata": {},
   "outputs": [],
   "source": [
    "from functools import reduce"
   ]
  },
  {
   "cell_type": "code",
   "execution_count": null,
   "metadata": {},
   "outputs": [],
   "source": [
    "name = 'input'\n",
    "\n",
    "with open(f'{name}.txt') as f:\n",
    "    t = f.read()\n",
    "    \n",
    "binary = ''\n",
    "for c in t:\n",
    "    binary += format(int(c, 16), '#06b')[2:]"
   ]
  },
  {
   "cell_type": "code",
   "execution_count": null,
   "metadata": {},
   "outputs": [],
   "source": [
    "def decode_packet(binary, loc):\n",
    "    version = int(binary[loc:loc+3], 2)\n",
    "    loc += 3\n",
    "    type_id = int(binary[loc:loc+3], 2)\n",
    "    loc += 3\n",
    "    \n",
    "    if type_id == 4:\n",
    "        # literal value packet\n",
    "        EOP = False\n",
    "        literal_value = ''\n",
    "        while not EOP: \n",
    "\n",
    "            num = binary[loc:loc+5]\n",
    "            if num[0] == '1':\n",
    "                literal_value += num[1:]\n",
    "            elif num[0] == '0':\n",
    "                literal_value += num[1:]\n",
    "                EOP = True\n",
    "            loc += 5\n",
    "        result = int(literal_value, 2)\n",
    "        versions = []\n",
    "        results = []\n",
    "    else:\n",
    "        # operator packet\n",
    "        length_type = binary[loc]\n",
    "        loc += 1\n",
    "        \n",
    "        if length_type == '0':\n",
    "            length = binary[loc:loc+15]\n",
    "            loc += 15\n",
    "            \n",
    "            n_bits = int(length, 2)\n",
    "            versions = []\n",
    "            type_ids = []\n",
    "            results = []\n",
    "            bits_decoded = 0\n",
    "            while bits_decoded < n_bits:\n",
    "                v, tid, res, l = decode_packet(binary, loc)\n",
    "                versions.append(v)\n",
    "                type_ids.append(tid)\n",
    "                results.append(res)\n",
    "                bits_decoded += l - loc\n",
    "                loc += l - loc\n",
    "            \n",
    "        elif length_type == '1':\n",
    "            length = binary[loc:loc+11]\n",
    "            loc += 11\n",
    "            \n",
    "            n_packets = int(length, 2)\n",
    "            versions = []\n",
    "            type_ids = []\n",
    "            results = []\n",
    "            packets_decoded = 0\n",
    "            \n",
    "            while packets_decoded < n_packets:\n",
    "                v, tid, res, l = decode_packet(binary, loc)\n",
    "                versions.append(v)\n",
    "                type_ids.append(tid)\n",
    "                results.append(res)\n",
    "                packets_decoded += 1\n",
    "                loc += l - loc\n",
    "        \n",
    "        if type_id == 0:\n",
    "            func = (lambda x,y: x+y)\n",
    "        elif type_id == 1:\n",
    "            func = (lambda x,y: x*y)\n",
    "        elif type_id == 2:\n",
    "            func = (lambda x,y: min(x, y))\n",
    "        elif type_id == 3:\n",
    "            func = (lambda x,y: max(x, y))\n",
    "        elif type_id == 5:\n",
    "            func = (lambda x,y: int(x>y))\n",
    "        elif type_id == 6:\n",
    "            func = (lambda x,y: int(x<y))\n",
    "        elif type_id == 7:\n",
    "            func = (lambda x,y: int(x==y))\n",
    "    \n",
    "    if results:\n",
    "        result = reduce(func, results)\n",
    "    \n",
    "    return version + sum(versions), type_id, result, loc"
   ]
  },
  {
   "cell_type": "code",
   "execution_count": null,
   "metadata": {
    "scrolled": false
   },
   "outputs": [],
   "source": [
    "decoded = decode_packet(binary, 0)"
   ]
  },
  {
   "cell_type": "markdown",
   "metadata": {},
   "source": [
    "## Part 1"
   ]
  },
  {
   "cell_type": "code",
   "execution_count": null,
   "metadata": {},
   "outputs": [],
   "source": [
    "print(decoded[0])"
   ]
  },
  {
   "cell_type": "markdown",
   "metadata": {},
   "source": [
    "## Part 2"
   ]
  },
  {
   "cell_type": "code",
   "execution_count": null,
   "metadata": {},
   "outputs": [],
   "source": [
    "print(decoded[2])"
   ]
  }
 ],
 "metadata": {
  "kernelspec": {
   "display_name": "Python 3",
   "language": "python",
   "name": "python3"
  },
  "language_info": {
   "codemirror_mode": {
    "name": "ipython",
    "version": 3
   },
   "file_extension": ".py",
   "mimetype": "text/x-python",
   "name": "python",
   "nbconvert_exporter": "python",
   "pygments_lexer": "ipython3",
   "version": "3.7.3"
  }
 },
 "nbformat": 4,
 "nbformat_minor": 2
}
