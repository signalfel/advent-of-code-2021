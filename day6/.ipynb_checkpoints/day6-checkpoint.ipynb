{
 "cells": [
  {
   "cell_type": "code",
   "execution_count": null,
   "metadata": {},
   "outputs": [],
   "source": [
    "test = '3,4,3,1,2'\n",
    "\n",
    "x = '4,3,3,5,4,1,2,1,3,1,1,1,1,1,2,4,1,3,3,1,1,1,1,2,3,1,1,1,4,1,1,2,1,2,2,1,1,1,1,1,5,1,1,2,1,1,1,1,1,1,1,1,1,3,1,1,1,1,1,1,1,1,5,1,4,2,1,1,2,1,3,1,1,2,2,1,1,1,1,1,1,1,1,1,1,4,1,3,2,2,3,1,1,1,4,1,1,1,1,5,1,1,1,5,1,1,3,1,1,2,4,1,1,3,2,4,1,1,1,1,1,5,5,1,1,1,1,1,1,4,1,1,1,3,2,1,1,5,1,1,1,1,1,1,1,5,4,1,5,1,3,4,1,1,1,1,2,1,2,1,1,1,2,2,1,2,3,5,1,1,1,1,3,5,1,1,1,2,1,1,4,1,1,5,1,4,1,2,1,3,1,5,1,4,3,1,3,2,1,1,1,2,2,1,1,1,1,4,5,1,1,1,1,1,3,1,3,4,1,1,4,1,1,3,1,3,1,1,4,5,4,3,2,5,1,1,1,1,1,1,2,1,5,2,5,3,1,1,1,1,1,3,1,1,1,1,5,1,2,1,2,1,1,1,1,2,1,1,1,1,1,1,1,3,3,1,1,5,1,3,5,5,1,1,1,2,1,2,1,5,1,1,1,1,2,1,1,1,2,1'"
   ]
  },
  {
   "cell_type": "code",
   "execution_count": null,
   "metadata": {},
   "outputs": [],
   "source": [
    "import pandas as pd"
   ]
  },
  {
   "cell_type": "markdown",
   "metadata": {},
   "source": [
    "## Part 1"
   ]
  },
  {
   "cell_type": "code",
   "execution_count": null,
   "metadata": {},
   "outputs": [],
   "source": [
    "days = 80\n",
    "\n",
    "fishmap = {}\n",
    "\n",
    "for i in range(1, 6):\n",
    "    fish = pd.Series([i])\n",
    "    for day in range(days):\n",
    "        spawners = sum(fish == 0)\n",
    "        fish -= 1\n",
    "        if spawners:\n",
    "            fish[fish == -1] = 6\n",
    "            fish = pd.concat([fish, pd.Series(8, index=range(spawners))], ignore_index=True)\n",
    "    fishmap[i] = len(fish)"
   ]
  },
  {
   "cell_type": "code",
   "execution_count": null,
   "metadata": {},
   "outputs": [],
   "source": [
    "initial_fish = [int(s) for s in x.split(',')]"
   ]
  },
  {
   "cell_type": "code",
   "execution_count": null,
   "metadata": {},
   "outputs": [],
   "source": [
    "sum([fishmap[i] for i in initial_fish])"
   ]
  },
  {
   "cell_type": "markdown",
   "metadata": {},
   "source": [
    "## Part 2"
   ]
  },
  {
   "cell_type": "code",
   "execution_count": null,
   "metadata": {},
   "outputs": [],
   "source": [
    "days = 256\n",
    "\n",
    "fishmap = {}\n",
    "for i in range(1, 6):\n",
    "    fish = pd.DataFrame({'num': [i], 'nfish': [1]})\n",
    "        \n",
    "    for day in range(days):\n",
    "        \n",
    "        dupe = fish['num'].duplicated(keep=False)\n",
    "        ind_keep = fish['num'].loc[dupe.index[0]]\n",
    "        \n",
    "        if dupe.any():\n",
    "            fish.loc[dupe, 'nfish'] = fish.loc[dupe, 'nfish'].sum()\n",
    "            fish.drop_duplicates(inplace=True)\n",
    "        \n",
    "        spawners = (fish['num'] == 0)\n",
    "        fish['num'] -= 1\n",
    "        if spawners.any():\n",
    "            fish.loc[fish['num'] == -1, 'num'] = 6\n",
    "        \n",
    "            new_fish = fish[spawners].copy()\n",
    "            new_fish['num'] = 8\n",
    "            fish = pd.concat([fish, new_fish], ignore_index=True)\n",
    "    fishmap[i] = fish['nfish'].sum()"
   ]
  },
  {
   "cell_type": "code",
   "execution_count": null,
   "metadata": {},
   "outputs": [],
   "source": [
    "initial_fish = [int(s) for s in x.split(',')]"
   ]
  },
  {
   "cell_type": "code",
   "execution_count": null,
   "metadata": {},
   "outputs": [],
   "source": [
    "sum([fishmap[i] for i in initial_fish])"
   ]
  }
 ],
 "metadata": {
  "kernelspec": {
   "display_name": "Python 3",
   "language": "python",
   "name": "python3"
  },
  "language_info": {
   "codemirror_mode": {
    "name": "ipython",
    "version": 3
   },
   "file_extension": ".py",
   "mimetype": "text/x-python",
   "name": "python",
   "nbconvert_exporter": "python",
   "pygments_lexer": "ipython3",
   "version": "3.7.3"
  }
 },
 "nbformat": 4,
 "nbformat_minor": 2
}
