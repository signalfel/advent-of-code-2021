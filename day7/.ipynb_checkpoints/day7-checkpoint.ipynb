{
 "cells": [
  {
   "cell_type": "code",
   "execution_count": null,
   "metadata": {},
   "outputs": [],
   "source": [
    "import pandas as pd"
   ]
  },
  {
   "cell_type": "code",
   "execution_count": 28,
   "metadata": {},
   "outputs": [],
   "source": [
    "name = 'input'\n",
    "with open(f'{name}.txt') as f:\n",
    "    x = f.read()"
   ]
  },
  {
   "cell_type": "markdown",
   "metadata": {},
   "source": [
    "## Part 1"
   ]
  },
  {
   "cell_type": "code",
   "execution_count": 29,
   "metadata": {},
   "outputs": [],
   "source": [
    "crabs = pd.Series([int(s) for s in x.split(',')])"
   ]
  },
  {
   "cell_type": "code",
   "execution_count": 30,
   "metadata": {},
   "outputs": [
    {
     "name": "stdout",
     "output_type": "stream",
     "text": [
      "339 355764\n"
     ]
    }
   ],
   "source": [
    "best = pd.np.inf\n",
    "for i in range(min(crabs), max(crabs)+1):\n",
    "    d = (crabs - i).abs().sum()\n",
    "    if d < best:\n",
    "        best = d\n",
    "        winner = i\n",
    "print(winner, best)"
   ]
  },
  {
   "cell_type": "markdown",
   "metadata": {},
   "source": [
    "## Part 2"
   ]
  },
  {
   "cell_type": "code",
   "execution_count": 19,
   "metadata": {},
   "outputs": [],
   "source": [
    "crabs = pd.Series([int(s) for s in x.split(',')])"
   ]
  },
  {
   "cell_type": "code",
   "execution_count": 20,
   "metadata": {},
   "outputs": [
    {
     "name": "stdout",
     "output_type": "stream",
     "text": [
      "485 99634572.0\n"
     ]
    }
   ],
   "source": [
    "best = pd.np.inf\n",
    "for i in range(min(crabs), max(crabs)+1):\n",
    "    \n",
    "    diffs = (crabs - i).abs()\n",
    "    d = (diffs*(diffs+1)/2).sum()\n",
    "    \n",
    "    if d < best:\n",
    "        best = d\n",
    "        winner = i\n",
    "print(winner, best)"
   ]
  },
  {
   "cell_type": "code",
   "execution_count": null,
   "metadata": {},
   "outputs": [],
   "source": []
  }
 ],
 "metadata": {
  "kernelspec": {
   "display_name": "Python 3",
   "language": "python",
   "name": "python3"
  },
  "language_info": {
   "codemirror_mode": {
    "name": "ipython",
    "version": 3
   },
   "file_extension": ".py",
   "mimetype": "text/x-python",
   "name": "python",
   "nbconvert_exporter": "python",
   "pygments_lexer": "ipython3",
   "version": "3.7.3"
  }
 },
 "nbformat": 4,
 "nbformat_minor": 2
}
