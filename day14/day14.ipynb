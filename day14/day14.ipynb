{
 "cells": [
  {
   "cell_type": "code",
   "execution_count": 1,
   "metadata": {},
   "outputs": [],
   "source": [
    "from collections import Counter"
   ]
  },
  {
   "cell_type": "code",
   "execution_count": 38,
   "metadata": {},
   "outputs": [],
   "source": [
    "name = 'test'\n",
    "\n",
    "with open(f'{name}.txt') as f:\n",
    "    t = f.read().split('\\n')"
   ]
  },
  {
   "cell_type": "code",
   "execution_count": 39,
   "metadata": {},
   "outputs": [],
   "source": [
    "start = 'NN'\n",
    "temps = [k.split(' -> ') for k in t[2:]]\n",
    "template = {k:v for k,v in temps}"
   ]
  },
  {
   "cell_type": "code",
   "execution_count": 4,
   "metadata": {},
   "outputs": [
    {
     "name": "stdout",
     "output_type": "stream",
     "text": [
      "517\n"
     ]
    }
   ],
   "source": [
    "n_steps = 10\n",
    "input_string = start\n",
    "for j in range(n_steps):\n",
    "    \n",
    "    new_string = ''\n",
    "    for i in range(len(input_string)-1):\n",
    "        new_string += input_string[i]\n",
    "        new_string += template[input_string[i:i+2]]\n",
    "    input_string = new_string + input_string[-1]\n",
    "\n",
    "c = Counter(input_string)\n",
    "counts = c.most_common()\n",
    "\n",
    "print(counts[0][1] - counts[-1][1])"
   ]
  },
  {
   "cell_type": "code",
   "execution_count": 5,
   "metadata": {},
   "outputs": [
    {
     "data": {
      "text/plain": [
       "Counter({'N': 330, 'B': 606, 'C': 89})"
      ]
     },
     "execution_count": 5,
     "metadata": {},
     "output_type": "execute_result"
    }
   ],
   "source": [
    "c"
   ]
  },
  {
   "cell_type": "code",
   "execution_count": null,
   "metadata": {},
   "outputs": [],
   "source": [
    "c + c"
   ]
  },
  {
   "cell_type": "code",
   "execution_count": null,
   "metadata": {},
   "outputs": [],
   "source": [
    "c + Counter()"
   ]
  },
  {
   "cell_type": "markdown",
   "metadata": {},
   "source": [
    "# Part 1"
   ]
  },
  {
   "cell_type": "code",
   "execution_count": 12,
   "metadata": {},
   "outputs": [],
   "source": [
    "from timeit import default_timer as timer"
   ]
  },
  {
   "cell_type": "markdown",
   "metadata": {},
   "source": [
    "# Part 2"
   ]
  },
  {
   "cell_type": "code",
   "execution_count": 27,
   "metadata": {},
   "outputs": [],
   "source": [
    "def count(pair, steps):\n",
    "    result = template[pair]\n",
    "    \n",
    "#      = \n",
    "    if steps == 1:\n",
    "        c = Counter(pair+result)\n",
    "        return c\n",
    "    else:\n",
    "        \n",
    "        \n",
    "        return count(pair[0]+result, steps-1) + count(result+pair[1], steps-1)"
   ]
  },
  {
   "cell_type": "code",
   "execution_count": 8,
   "metadata": {},
   "outputs": [],
   "source": [
    "temps = {tuple(list(k)):v for k,v in template.items()}"
   ]
  },
  {
   "cell_type": "code",
   "execution_count": 25,
   "metadata": {},
   "outputs": [],
   "source": [
    "def count2(l1, l2, steps):\n",
    "    result = temps[(l1, l2)]\n",
    "    \n",
    "    if steps == 1:\n",
    "        c = Counter(''.join([l1, l2, result]))\n",
    "        return c\n",
    "    else:\n",
    "        \n",
    "        return count2(l1, result, steps-1) + count2(result, l2, steps-1)"
   ]
  },
  {
   "cell_type": "code",
   "execution_count": 28,
   "metadata": {},
   "outputs": [
    {
     "name": "stdout",
     "output_type": "stream",
     "text": [
      "Counter({'B': 1033449, 'N': 521704, 'C': 17711})\n",
      "3.044234700000004\n"
     ]
    }
   ],
   "source": [
    "t0 = timer()\n",
    "c1 = count('NN', 20)\n",
    "print(c1)\n",
    "print(timer()-t0)"
   ]
  },
  {
   "cell_type": "code",
   "execution_count": 31,
   "metadata": {},
   "outputs": [
    {
     "name": "stdout",
     "output_type": "stream",
     "text": [
      "Counter({'B': 8324529, 'N': 4183358, 'C': 75025})\n",
      "23.441547000000014\n"
     ]
    }
   ],
   "source": [
    "t0 = timer()\n",
    "c1 = count2('N', 'N', 23)\n",
    "print(c1)\n",
    "print(timer()-t0)"
   ]
  },
  {
   "cell_type": "markdown",
   "metadata": {},
   "source": [
    "### mult"
   ]
  },
  {
   "cell_type": "code",
   "execution_count": 40,
   "metadata": {},
   "outputs": [
    {
     "name": "stdout",
     "output_type": "stream",
     "text": [
      "1\n"
     ]
    }
   ],
   "source": [
    "n_steps = 2\n",
    "input_string = start\n",
    "for j in range(n_steps):\n",
    "    \n",
    "    new_string = ''\n",
    "    for i in range(len(input_string)-1):\n",
    "        new_string += input_string[i]\n",
    "        new_string += template[input_string[i:i+2]]\n",
    "    input_string = new_string + input_string[-1]\n",
    "\n",
    "c = Counter(input_string)\n",
    "counts = c.most_common()\n",
    "\n",
    "print(counts[0][1] - counts[-1][1])"
   ]
  },
  {
   "cell_type": "code",
   "execution_count": 41,
   "metadata": {},
   "outputs": [
    {
     "data": {
      "text/plain": [
       "[('N', 2), ('C', 2), ('B', 1)]"
      ]
     },
     "execution_count": 41,
     "metadata": {},
     "output_type": "execute_result"
    }
   ],
   "source": [
    "counts"
   ]
  },
  {
   "cell_type": "code",
   "execution_count": null,
   "metadata": {},
   "outputs": [],
   "source": []
  }
 ],
 "metadata": {
  "kernelspec": {
   "display_name": "Python 3",
   "language": "python",
   "name": "python3"
  },
  "language_info": {
   "codemirror_mode": {
    "name": "ipython",
    "version": 3
   },
   "file_extension": ".py",
   "mimetype": "text/x-python",
   "name": "python",
   "nbconvert_exporter": "python",
   "pygments_lexer": "ipython3",
   "version": "3.7.3"
  }
 },
 "nbformat": 4,
 "nbformat_minor": 2
}
