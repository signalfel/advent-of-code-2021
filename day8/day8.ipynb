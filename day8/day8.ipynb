{
 "cells": [
  {
   "cell_type": "code",
   "execution_count": null,
   "metadata": {},
   "outputs": [],
   "source": [
    "name = 'input'\n",
    "\n",
    "with open(f'{name}.txt') as f:\n",
    "    t = f.read().split('\\n')"
   ]
  },
  {
   "cell_type": "markdown",
   "metadata": {},
   "source": [
    "## Part 1"
   ]
  },
  {
   "cell_type": "code",
   "execution_count": null,
   "metadata": {},
   "outputs": [],
   "source": [
    "outputs = [j.split(' | ')[1] for j in t]"
   ]
  },
  {
   "cell_type": "code",
   "execution_count": null,
   "metadata": {},
   "outputs": [],
   "source": [
    "unique = {2: 1, 4: 4, 3: 7, 7: 8}"
   ]
  },
  {
   "cell_type": "code",
   "execution_count": null,
   "metadata": {},
   "outputs": [],
   "source": [
    "n_uniq_digs = 0\n",
    "for o in outputs:\n",
    "    words = o.split(' ')\n",
    "    n_uniq_digs += sum([len(i) in unique.keys() for i in words])"
   ]
  },
  {
   "cell_type": "code",
   "execution_count": null,
   "metadata": {},
   "outputs": [],
   "source": [
    "n_uniq_digs"
   ]
  },
  {
   "cell_type": "markdown",
   "metadata": {},
   "source": [
    "## Part 2"
   ]
  },
  {
   "cell_type": "code",
   "execution_count": null,
   "metadata": {},
   "outputs": [],
   "source": [
    "true_digits = {'abcefg' : '0', 'cf': '1', 'acdeg': '2', 'acdfg': '3', 'bcdf': '4', \n",
    "               'abdfg': '5', 'abdefg': '6', 'acf': '7', 'abcdefg': '8', 'abcdfg': '9'}"
   ]
  },
  {
   "cell_type": "code",
   "execution_count": null,
   "metadata": {
    "scrolled": false
   },
   "outputs": [],
   "source": [
    "final_answer = 0\n",
    "for line in t:\n",
    "    \n",
    "    inputs, outputs = line.split(' | ')\n",
    "    \n",
    "    # sort the words and remove duplicates\n",
    "    words = sorted(list(set(inputs.split(' '))), key=len)\n",
    "\n",
    "    coder = {}\n",
    "    \n",
    "    # checked that there is always one of length 2\n",
    "    # if there are two digits, they must be c and f\n",
    "    cf = list(words[0])\n",
    "\n",
    "    # checked that there is always one of length 3\n",
    "    # for three digits, the one that is not c or f is always a\n",
    "    coder['a'] = (set(words[1]) - set(cf)).pop()\n",
    "\n",
    "    # checked that 4 is always present\n",
    "    # for number 4, the ones that are not cf are always bd\n",
    "    bd = list(set(words[2]) - set(cf))\n",
    "    \n",
    "    # the rest of the info we need is present in the 6-digit\n",
    "    sixes = [w for w in words if len(w)==6]\n",
    "    for s in sixes:\n",
    "        if len(set(s)-set(cf)) == 5:\n",
    "            # if there is a digit of length 6 that contains only one of c or f, its a 6 and the one it contains is f\n",
    "            coder['f'] = set(s).intersection(set(cf)).pop()\n",
    "            # then the other in cf is a c\n",
    "            coder['c'] = (set(cf)-set(coder['f'])).pop()\n",
    "\n",
    "        elif len(set(s)-set(bd)) == 5:\n",
    "            # if there is a digit of length 6 that contains only one of b or d, it's a 0 and the one it contains is b\n",
    "            coder['b'] = set(s).intersection(set(bd)).pop()\n",
    "            # then the other in bd is d\n",
    "            coder['d'] = (set(bd)-set(coder['b'])).pop()\n",
    "        else:\n",
    "            # if there is a digit of length 6 that contains both b,d and both c,f, it has to be a 9.\n",
    "            \n",
    "            # 9 is only missing e, so we get that\n",
    "            coder['e'] = (set('abcdefg')-set(s)).pop()\n",
    "            \n",
    "            # finally, we already have a so 9 if we subtract a,b,d,c,f from 9 we get g\n",
    "            coder['g'] = (set(s) - set(cf) - set(bd) - set(coder['a'])).pop()\n",
    "    \n",
    "    # to actually decode, we flip the dict\n",
    "    decoder = {v:k for k,v in coder.items()}\n",
    "    \n",
    "    out = ''\n",
    "    for ow in outputs.split(' '):\n",
    "        decoded_digit = ''.join(sorted(decoder[j] for j in ow))\n",
    "        out += true_digits[decoded_digit]\n",
    "    \n",
    "    final_answer += int(out)\n",
    "\n",
    "print(final_answer)"
   ]
  }
 ],
 "metadata": {
  "kernelspec": {
   "display_name": "Python 3",
   "language": "python",
   "name": "python3"
  },
  "language_info": {
   "codemirror_mode": {
    "name": "ipython",
    "version": 3
   },
   "file_extension": ".py",
   "mimetype": "text/x-python",
   "name": "python",
   "nbconvert_exporter": "python",
   "pygments_lexer": "ipython3",
   "version": "3.7.3"
  }
 },
 "nbformat": 4,
 "nbformat_minor": 2
}
