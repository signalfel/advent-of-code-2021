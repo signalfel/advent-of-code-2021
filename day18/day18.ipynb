{
 "cells": [
  {
   "cell_type": "code",
   "execution_count": 27,
   "metadata": {},
   "outputs": [],
   "source": [
    "from functools import reduce\n",
    "from itertools import combinations, product"
   ]
  },
  {
   "cell_type": "code",
   "execution_count": 45,
   "metadata": {},
   "outputs": [],
   "source": [
    "def find_4_nested(n):\n",
    "    nested_addr = []\n",
    "    for i in range(len(n)):\n",
    "        if isinstance(n[i], list):\n",
    "            for j in range(len(n[i])):\n",
    "                if isinstance(n[i][j], list):\n",
    "                    for k in range(len(n[i][j])):\n",
    "                        if isinstance(n[i][j][k], list):\n",
    "                            for l in range(len(n[i][j][k])):\n",
    "                                if isinstance(n[i][j][k][l], list):\n",
    "                                    nested_addr.append([i, j, k, l])\n",
    "    return nested_addr\n",
    "\n",
    "\n",
    "def find_greater_than_10(n):\n",
    "    g10_addr = []\n",
    "    for i in range(len(n)):\n",
    "        if isinstance(n[i], list):\n",
    "            for j in range(len(n[i])):\n",
    "                if isinstance(n[i][j], list):\n",
    "                    for k in range(len(n[i][j])):\n",
    "                        if isinstance(n[i][j][k], list):\n",
    "                            for l in range(len(n[i][j][k])):\n",
    "                                \n",
    "                                if isinstance(n[i][j][k][l], list):\n",
    "                                    raise Exception('You should explode first.')\n",
    "                                elif n[i][j][k][l] > 9:\n",
    "                                    g10_addr.append([i, j, k, l])\n",
    "                        elif n[i][j][k] > 9:\n",
    "                            g10_addr.append([i, j, k])\n",
    "                elif n[i][j] > 9:\n",
    "                    g10_addr.append([i,j])\n",
    "        elif n[i] > 9:\n",
    "            g10_addr.append([i])\n",
    "                            \n",
    "    return g10_addr\n",
    "\n",
    "    \n",
    "\n",
    "def explode(n):\n",
    "    nested_addr = find_4_nested(n)\n",
    "    \n",
    "    # leftmost address that is 4-nested:\n",
    "    i,j,k,l = min(nested_addr)\n",
    "    \n",
    "    if l > 0:\n",
    "        left_addr = [i, j, k, l-1]\n",
    "    elif k > 0:\n",
    "        left_addr = [i, j, k-1]\n",
    "    elif j > 0:\n",
    "        left_addr = [i, j-1]\n",
    "    elif i > 0:\n",
    "        left_addr = [i-1]\n",
    "    else:\n",
    "        left_addr = []\n",
    "    \n",
    "    if left_addr:\n",
    "        addr_str = 'n'+''.join([f'[{s}]' for s in left_addr])\n",
    "        \n",
    "        while isinstance(eval(addr_str), list):\n",
    "            addr_str += '[-1]'\n",
    "        exec(addr_str + f' += n[{i}][{j}][{k}][{l}][0]')\n",
    "    \n",
    "    if l < len(n[i][j][k])-1:\n",
    "        right_addr = [i, j, k, l+1]\n",
    "    elif k < len(n[i][j])-1: \n",
    "        right_addr = [i, j, k+1]\n",
    "    elif j < len(n[i])-1:\n",
    "        right_addr = [i, j+1]\n",
    "    elif i < len(n)-1:\n",
    "        right_addr = [i+1]\n",
    "    else:\n",
    "        right_addr = []\n",
    "        \n",
    "    if right_addr:\n",
    "        addr_str = 'n'+''.join([f'[{s}]' for s in right_addr])\n",
    "        while isinstance(eval(addr_str), list):\n",
    "            addr_str += '[0]'\n",
    "        exec(addr_str  + f' += n[{i}][{j}][{k}][{l}][1]')\n",
    "    \n",
    "    n[i][j][k][l] = 0\n",
    "    return n\n",
    "\n",
    "def split(n):\n",
    "    # leftmost greater than 9 number\n",
    "    l_g10_addr = min(find_greater_than_10(n))\n",
    "    addr_str = 'n'+''.join([f'[{s}]' for s in l_g10_addr])\n",
    "    num = eval(addr_str)\n",
    "    exec(addr_str + f' = [{num//2}, {int(num/2 + 0.5)}]')\n",
    "    \n",
    "    return n\n",
    "\n",
    "def snail_reduce(n):\n",
    "    if not find_4_nested(n):\n",
    "        if not find_greater_than_10(n):\n",
    "            return n\n",
    "        else:\n",
    "            return snail_reduce(split(n))\n",
    "    else:\n",
    "        return snail_reduce(explode(n))\n",
    "\n",
    "def snail_add(n1, n2):\n",
    "    if isinstance(n1, str):\n",
    "        n1 = eval(n1)\n",
    "    if isinstance(n2, str):\n",
    "        n2 = eval(n2)\n",
    "    \n",
    "    return snail_reduce([n1, n2])\n",
    "\n",
    "def snail_magnitude(n):\n",
    "    if isinstance(n, int):\n",
    "        return n\n",
    "    else:\n",
    "        return 3*snail_magnitude(n[0]) + 2*snail_magnitude(n[1])\n",
    "        "
   ]
  },
  {
   "cell_type": "code",
   "execution_count": 62,
   "metadata": {},
   "outputs": [],
   "source": [
    "name = 'input'\n",
    "\n",
    "with open(f'{name}.txt') as f:\n",
    "    snailfish_list = f.read().split('\\n')"
   ]
  },
  {
   "cell_type": "markdown",
   "metadata": {},
   "source": [
    "# Part 1"
   ]
  },
  {
   "cell_type": "code",
   "execution_count": 63,
   "metadata": {},
   "outputs": [
    {
     "data": {
      "text/plain": [
       "4124"
      ]
     },
     "execution_count": 63,
     "metadata": {},
     "output_type": "execute_result"
    }
   ],
   "source": [
    "snail_magnitude(reduce(snail_add, snailfish_list))"
   ]
  },
  {
   "cell_type": "markdown",
   "metadata": {},
   "source": [
    "# Part 2"
   ]
  },
  {
   "cell_type": "code",
   "execution_count": 66,
   "metadata": {},
   "outputs": [
    {
     "data": {
      "text/plain": [
       "4673"
      ]
     },
     "execution_count": 66,
     "metadata": {},
     "output_type": "execute_result"
    }
   ],
   "source": [
    "highest_magnitude = 0\n",
    "for a,b in product(snailfish_list, snailfish_list):\n",
    "    if a != b:\n",
    "        highest_magnitude = max(highest_magnitude, snail_magnitude(snail_add(a, b)))\n",
    "    \n",
    "highest_magnitude"
   ]
  },
  {
   "cell_type": "code",
   "execution_count": null,
   "metadata": {},
   "outputs": [],
   "source": []
  }
 ],
 "metadata": {
  "kernelspec": {
   "display_name": "Python 3",
   "language": "python",
   "name": "python3"
  },
  "language_info": {
   "codemirror_mode": {
    "name": "ipython",
    "version": 3
   },
   "file_extension": ".py",
   "mimetype": "text/x-python",
   "name": "python",
   "nbconvert_exporter": "python",
   "pygments_lexer": "ipython3",
   "version": "3.7.3"
  }
 },
 "nbformat": 4,
 "nbformat_minor": 2
}
