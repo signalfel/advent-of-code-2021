{
 "cells": [
  {
   "cell_type": "code",
   "execution_count": 1,
   "metadata": {},
   "outputs": [],
   "source": [
    "name = 'input'\n",
    "\n",
    "with open(f'{name}.txt') as f:\n",
    "    t = f.read().split('\\n')"
   ]
  },
  {
   "cell_type": "code",
   "execution_count": 2,
   "metadata": {},
   "outputs": [],
   "source": [
    "def check_line(line):\n",
    "    stack = []\n",
    "    for char in line:\n",
    "        if char in ['[', '(', '{', '<']:\n",
    "            stack.append(char)\n",
    "        else:\n",
    "            current_char = stack.pop()\n",
    "            if current_char == '(':\n",
    "                if char != ')':\n",
    "                    return 'corrupted', char\n",
    "            \n",
    "            elif current_char == '[':\n",
    "                if char != ']':  \n",
    "                    return 'corrupted', char\n",
    "            \n",
    "            elif current_char == '{':\n",
    "                if char != '}':\n",
    "                    return 'corrupted', char\n",
    "            else:\n",
    "                if char != '>':\n",
    "                    return 'corrupted', char\n",
    "    if stack:\n",
    "        return 'incomplete', stack\n",
    "    return 'OK', None"
   ]
  },
  {
   "cell_type": "markdown",
   "metadata": {},
   "source": [
    "## Part 1"
   ]
  },
  {
   "cell_type": "code",
   "execution_count": 3,
   "metadata": {},
   "outputs": [
    {
     "name": "stdout",
     "output_type": "stream",
     "text": [
      "464991\n"
     ]
    }
   ],
   "source": [
    "point_table = {')': 3, ']': 57, '}': 1197, '>': 25137}\n",
    "\n",
    "points = 0\n",
    "for l in t:\n",
    "    err, char = check_line(l)\n",
    "    if err == 'corrupted': \n",
    "        points += point_table[char] \n",
    "    \n",
    "print(points)"
   ]
  },
  {
   "cell_type": "markdown",
   "metadata": {},
   "source": [
    "## Part 2"
   ]
  },
  {
   "cell_type": "code",
   "execution_count": 4,
   "metadata": {
    "scrolled": true
   },
   "outputs": [
    {
     "name": "stdout",
     "output_type": "stream",
     "text": [
      "3662008566\n"
     ]
    }
   ],
   "source": [
    "point_table = {'(': 1, '[': 2, '{': 3, '<': 4}\n",
    "\n",
    "scores = []\n",
    "for l in t:\n",
    "    err, stack = check_line(l)\n",
    "    \n",
    "    if err == 'incomplete':\n",
    "        score = 0\n",
    "        for b in reversed(stack):\n",
    "            score = score*5 + point_table[b]\n",
    "        scores.append(score)\n",
    "        \n",
    "print(sorted(scores)[len(scores)//2])"
   ]
  },
  {
   "cell_type": "code",
   "execution_count": null,
   "metadata": {},
   "outputs": [],
   "source": []
  }
 ],
 "metadata": {
  "kernelspec": {
   "display_name": "Python 3",
   "language": "python",
   "name": "python3"
  },
  "language_info": {
   "codemirror_mode": {
    "name": "ipython",
    "version": 3
   },
   "file_extension": ".py",
   "mimetype": "text/x-python",
   "name": "python",
   "nbconvert_exporter": "python",
   "pygments_lexer": "ipython3",
   "version": "3.7.3"
  }
 },
 "nbformat": 4,
 "nbformat_minor": 2
}
